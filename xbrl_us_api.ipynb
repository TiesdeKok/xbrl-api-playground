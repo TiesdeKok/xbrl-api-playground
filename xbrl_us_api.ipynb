{
 "cells": [
  {
   "cell_type": "markdown",
   "metadata": {},
   "source": [
    "## XBRL US API - Python example  \n",
    "This notebook contains example Python code to use the XBRL US API (https://xbrl.us/home/use/xbrl-api/)    \n",
    "  \n",
    "**Made by:** [Ties de Kok](https://www.tiesdekok.com)"
   ]
  },
  {
   "cell_type": "markdown",
   "metadata": {},
   "source": [
    "## Imports"
   ]
  },
  {
   "cell_type": "code",
   "execution_count": 1,
   "metadata": {},
   "outputs": [],
   "source": [
    "import os, re, sys, json\n",
    "import requests"
   ]
  },
  {
   "cell_type": "code",
   "execution_count": 2,
   "metadata": {},
   "outputs": [],
   "source": [
    "import pandas as pd\n",
    "import numpy as np"
   ]
  },
  {
   "cell_type": "markdown",
   "metadata": {},
   "source": [
    "## Api documentation"
   ]
  },
  {
   "cell_type": "markdown",
   "metadata": {},
   "source": [
    "https://xbrlus.github.io/xbrl-api/#/Facts/getFactDetails"
   ]
  },
  {
   "cell_type": "markdown",
   "metadata": {},
   "source": [
    "## Generate an access token\n",
    "The access token will expire after 60 minutes."
   ]
  },
  {
   "cell_type": "markdown",
   "metadata": {},
   "source": [
    "**Normally you would use the following code with your own credentials:**    \n",
    "You can obtain credentials here: https://xbrl.us/home/use/xbrl-api-community/#provisioning"
   ]
  },
  {
   "cell_type": "markdown",
   "metadata": {},
   "source": [
    "```\n",
    "endpoint = 'https://api.xbrl.us'\n",
    "endpoint_auth = endpoint + '/oauth2/token'\n",
    "\n",
    "with open('login_cred.json', 'r') as f:\n",
    "    login_cred = json.loads(f.read())\n",
    "    \n",
    "body_auth = {'grant_type' : 'password', \n",
    "            'client_id' : login_cred['client_id'], \n",
    "            'client_secret' : login_cred['client_secret'], \n",
    "            'username' : login_cred['username'] ,\n",
    "            'password' : login_cred['password'],\n",
    "            'platform' : 'pc'}\n",
    "res = requests.post(endpoint_auth, data=body_auth)\n",
    "auth_json = res.json()\n",
    "access_token = auth_json['access_token']\n",
    "```"
   ]
  },
  {
   "cell_type": "markdown",
   "metadata": {},
   "source": [
    "### However, for this demo we will use temporary credentials:"
   ]
  },
  {
   "cell_type": "code",
   "execution_count": 3,
   "metadata": {},
   "outputs": [],
   "source": [
    "access_token = requests.get('https://tdekok-xbrlapi.builtwithdark.com/gettoken').text.replace('\"', \"\")"
   ]
  },
  {
   "cell_type": "markdown",
   "metadata": {},
   "source": [
    "## Make a query"
   ]
  },
  {
   "cell_type": "markdown",
   "metadata": {},
   "source": [
    "### Define the fields you would like returned"
   ]
  },
  {
   "cell_type": "code",
   "execution_count": 4,
   "metadata": {},
   "outputs": [],
   "source": [
    "fields = ['entity.cik',\n",
    "         'entity.name.sort(ASC)',\n",
    "         'dts.id',\n",
    "         'fact.id',\n",
    "         'report.filing-date',\n",
    "         'period.fiscal-year',\n",
    "         'report.type',\n",
    "         'concept.local-name',\n",
    "         'dimensions.count',\n",
    "         'dimension.local-name.sort(ASC)',\n",
    "         'member.local-name',\n",
    "         'fact.value',\n",
    "         'unit',\n",
    "         'fact.ultimus-index',\n",
    "         'dimension.namespace',\n",
    "         'member.namespace',\n",
    "         'fact.offset(0)'\n",
    "         ]"
   ]
  },
  {
   "cell_type": "markdown",
   "metadata": {},
   "source": [
    "### Define the XBRL elements (tags) you'd like "
   ]
  },
  {
   "cell_type": "code",
   "execution_count": 5,
   "metadata": {},
   "outputs": [],
   "source": [
    "XBRL_Elements = ['IntangibleAssetsNetExcludingGoodwill',\n",
    "                 'FiniteLivedIntangibleAssetsNet',\n",
    "                 'IndefiniteLivedIntangibleAssetsExcludingGoodwill'\n",
    "                ]"
   ]
  },
  {
   "cell_type": "markdown",
   "metadata": {},
   "source": [
    "### Define the companies you'd like"
   ]
  },
  {
   "cell_type": "code",
   "execution_count": 6,
   "metadata": {},
   "outputs": [],
   "source": [
    "companies_cik = ['0000789019', ## Microsoft (MSFT)\n",
    "                 '0001018724', ## Amazon (AMZN)\n",
    "                 '0001652044', ## Alphabet (GOOG)\n",
    "                ]"
   ]
  },
  {
   "cell_type": "markdown",
   "metadata": {},
   "source": [
    "### Define the years you'd like"
   ]
  },
  {
   "cell_type": "code",
   "execution_count": 7,
   "metadata": {},
   "outputs": [],
   "source": [
    "years = ['2019']"
   ]
  },
  {
   "cell_type": "markdown",
   "metadata": {},
   "source": [
    "### Automatic: assemble API parameters"
   ]
  },
  {
   "cell_type": "code",
   "execution_count": 8,
   "metadata": {},
   "outputs": [],
   "source": [
    "params = {'concept.local-name': ','.join(XBRL_Elements),\n",
    "         'fact.has-dimensions': 'TRUE',\n",
    "         'report.type': '10-K,10-K/A',\n",
    "         'period.fiscal-period': 'Y',\n",
    "         'period.fiscal-year': ','.join(years),\n",
    "         'unit': 'USD',\n",
    "         'fields': ','.join(fields),\n",
    "         'entity.cik': ','.join(companies_cik)\n",
    "         }"
   ]
  },
  {
   "cell_type": "code",
   "execution_count": 9,
   "metadata": {},
   "outputs": [],
   "source": [
    "search_endpoint = 'https://api.xbrl.us/api/v1/fact/search'"
   ]
  },
  {
   "cell_type": "code",
   "execution_count": 10,
   "metadata": {},
   "outputs": [],
   "source": [
    "res = requests.get(search_endpoint, params=params, headers={'Authorization' : 'Bearer {}'.format(access_token)})"
   ]
  },
  {
   "cell_type": "code",
   "execution_count": 11,
   "metadata": {},
   "outputs": [],
   "source": [
    "res_json = res.json()"
   ]
  },
  {
   "cell_type": "code",
   "execution_count": 13,
   "metadata": {
    "scrolled": false
   },
   "outputs": [],
   "source": [
    "res_df = pd.DataFrame(res_json['data'])"
   ]
  },
  {
   "cell_type": "code",
   "execution_count": 14,
   "metadata": {},
   "outputs": [
    {
     "data": {
      "text/html": [
       "<div>\n",
       "<style scoped>\n",
       "    .dataframe tbody tr th:only-of-type {\n",
       "        vertical-align: middle;\n",
       "    }\n",
       "\n",
       "    .dataframe tbody tr th {\n",
       "        vertical-align: top;\n",
       "    }\n",
       "\n",
       "    .dataframe thead th {\n",
       "        text-align: right;\n",
       "    }\n",
       "</style>\n",
       "<table border=\"1\" class=\"dataframe\">\n",
       "  <thead>\n",
       "    <tr style=\"text-align: right;\">\n",
       "      <th></th>\n",
       "      <th>entity.cik</th>\n",
       "      <th>entity.name</th>\n",
       "      <th>dts.id</th>\n",
       "      <th>fact.id</th>\n",
       "      <th>report.filing-date</th>\n",
       "      <th>period.fiscal-year</th>\n",
       "      <th>report.type</th>\n",
       "      <th>concept.local-name</th>\n",
       "      <th>dimensions.count</th>\n",
       "      <th>dimension.local-name</th>\n",
       "      <th>member.local-name</th>\n",
       "      <th>fact.value</th>\n",
       "      <th>unit</th>\n",
       "      <th>fact.ultimus-index</th>\n",
       "      <th>dimension.namespace</th>\n",
       "      <th>member.namespace</th>\n",
       "    </tr>\n",
       "  </thead>\n",
       "  <tbody>\n",
       "    <tr>\n",
       "      <th>0</th>\n",
       "      <td>0001652044</td>\n",
       "      <td>Alphabet Inc.</td>\n",
       "      <td>362758</td>\n",
       "      <td>221624796</td>\n",
       "      <td>2020-02-04</td>\n",
       "      <td>2019</td>\n",
       "      <td>10-K</td>\n",
       "      <td>IntangibleAssetsNetExcludingGoodwill</td>\n",
       "      <td>1</td>\n",
       "      <td>FiniteLivedIntangibleAssetsByMajorClassAxis</td>\n",
       "      <td>TradenamesAndOtherMember</td>\n",
       "      <td>353000000</td>\n",
       "      <td>USD</td>\n",
       "      <td>2</td>\n",
       "      <td>http://fasb.org/us-gaap/2019-01-31</td>\n",
       "      <td>http://www.google.com/20191231</td>\n",
       "    </tr>\n",
       "    <tr>\n",
       "      <th>1</th>\n",
       "      <td>0001652044</td>\n",
       "      <td>Alphabet Inc.</td>\n",
       "      <td>362758</td>\n",
       "      <td>221624695</td>\n",
       "      <td>2020-02-04</td>\n",
       "      <td>2019</td>\n",
       "      <td>10-K</td>\n",
       "      <td>IntangibleAssetsNetExcludingGoodwill</td>\n",
       "      <td>1</td>\n",
       "      <td>FiniteLivedIntangibleAssetsByMajorClassAxis</td>\n",
       "      <td>CustomerRelationshipsMember</td>\n",
       "      <td>224000000</td>\n",
       "      <td>USD</td>\n",
       "      <td>2</td>\n",
       "      <td>http://fasb.org/us-gaap/2019-01-31</td>\n",
       "      <td>http://fasb.org/us-gaap/2019-01-31</td>\n",
       "    </tr>\n",
       "    <tr>\n",
       "      <th>2</th>\n",
       "      <td>0001652044</td>\n",
       "      <td>Alphabet Inc.</td>\n",
       "      <td>362758</td>\n",
       "      <td>221625088</td>\n",
       "      <td>2020-02-04</td>\n",
       "      <td>2019</td>\n",
       "      <td>10-K</td>\n",
       "      <td>IntangibleAssetsNetExcludingGoodwill</td>\n",
       "      <td>1</td>\n",
       "      <td>FiniteLivedIntangibleAssetsByMajorClassAxis</td>\n",
       "      <td>PatentsAndDevelopedTechnologyMember</td>\n",
       "      <td>1402000000</td>\n",
       "      <td>USD</td>\n",
       "      <td>2</td>\n",
       "      <td>http://fasb.org/us-gaap/2019-01-31</td>\n",
       "      <td>http://www.google.com/20191231</td>\n",
       "    </tr>\n",
       "    <tr>\n",
       "      <th>3</th>\n",
       "      <td>0001018724</td>\n",
       "      <td>AMAZON.COM, INC.</td>\n",
       "      <td>362382</td>\n",
       "      <td>221546174</td>\n",
       "      <td>2020-01-31</td>\n",
       "      <td>2019</td>\n",
       "      <td>10-K</td>\n",
       "      <td>IntangibleAssetsNetExcludingGoodwill</td>\n",
       "      <td>1</td>\n",
       "      <td>FiniteLivedIntangibleAssetsByMajorClassAxis</td>\n",
       "      <td>TechnologyBasedIntangibleAssetsMember</td>\n",
       "      <td>534000000</td>\n",
       "      <td>USD</td>\n",
       "      <td>1</td>\n",
       "      <td>http://fasb.org/us-gaap/2019-01-31</td>\n",
       "      <td>http://fasb.org/us-gaap/2019-01-31</td>\n",
       "    </tr>\n",
       "    <tr>\n",
       "      <th>4</th>\n",
       "      <td>0001018724</td>\n",
       "      <td>AMAZON.COM, INC.</td>\n",
       "      <td>362382</td>\n",
       "      <td>221545329</td>\n",
       "      <td>2020-01-31</td>\n",
       "      <td>2019</td>\n",
       "      <td>10-K</td>\n",
       "      <td>IntangibleAssetsNetExcludingGoodwill</td>\n",
       "      <td>1</td>\n",
       "      <td>FiniteLivedIntangibleAssetsByMajorClassAxis</td>\n",
       "      <td>MarketingRelatedIntangibleAssetsMember</td>\n",
       "      <td>1963000000</td>\n",
       "      <td>USD</td>\n",
       "      <td>1</td>\n",
       "      <td>http://fasb.org/us-gaap/2019-01-31</td>\n",
       "      <td>http://fasb.org/us-gaap/2019-01-31</td>\n",
       "    </tr>\n",
       "    <tr>\n",
       "      <th>5</th>\n",
       "      <td>0001018724</td>\n",
       "      <td>AMAZON.COM, INC.</td>\n",
       "      <td>362382</td>\n",
       "      <td>221545455</td>\n",
       "      <td>2020-01-31</td>\n",
       "      <td>2019</td>\n",
       "      <td>10-K</td>\n",
       "      <td>IntangibleAssetsNetExcludingGoodwill</td>\n",
       "      <td>1</td>\n",
       "      <td>FiniteLivedIntangibleAssetsByMajorClassAxis</td>\n",
       "      <td>CustomerRelatedIntangibleAssetsMember</td>\n",
       "      <td>152000000</td>\n",
       "      <td>USD</td>\n",
       "      <td>1</td>\n",
       "      <td>http://fasb.org/us-gaap/2019-01-31</td>\n",
       "      <td>http://fasb.org/us-gaap/2019-01-31</td>\n",
       "    </tr>\n",
       "    <tr>\n",
       "      <th>6</th>\n",
       "      <td>0001018724</td>\n",
       "      <td>AMAZON.COM, INC.</td>\n",
       "      <td>362382</td>\n",
       "      <td>221546415</td>\n",
       "      <td>2020-01-31</td>\n",
       "      <td>2019</td>\n",
       "      <td>10-K</td>\n",
       "      <td>IntangibleAssetsNetExcludingGoodwill</td>\n",
       "      <td>1</td>\n",
       "      <td>FiniteLivedIntangibleAssetsByMajorClassAxis</td>\n",
       "      <td>ContractBasedIntangibleAssetsMember</td>\n",
       "      <td>1400000000</td>\n",
       "      <td>USD</td>\n",
       "      <td>1</td>\n",
       "      <td>http://fasb.org/us-gaap/2019-01-31</td>\n",
       "      <td>http://fasb.org/us-gaap/2019-01-31</td>\n",
       "    </tr>\n",
       "    <tr>\n",
       "      <th>7</th>\n",
       "      <td>0000789019</td>\n",
       "      <td>MICROSOFT CORPORATION</td>\n",
       "      <td>334516</td>\n",
       "      <td>209185196</td>\n",
       "      <td>2019-08-01</td>\n",
       "      <td>2019</td>\n",
       "      <td>10-K</td>\n",
       "      <td>FiniteLivedIntangibleAssetsNet</td>\n",
       "      <td>1</td>\n",
       "      <td>FiniteLivedIntangibleAssetsByMajorClassAxis</td>\n",
       "      <td>CustomerRelationshipsMember</td>\n",
       "      <td>2924000000</td>\n",
       "      <td>USD</td>\n",
       "      <td>4</td>\n",
       "      <td>http://fasb.org/us-gaap/2018-01-31</td>\n",
       "      <td>http://fasb.org/us-gaap/2018-01-31</td>\n",
       "    </tr>\n",
       "    <tr>\n",
       "      <th>8</th>\n",
       "      <td>0000789019</td>\n",
       "      <td>MICROSOFT CORPORATION</td>\n",
       "      <td>334516</td>\n",
       "      <td>209184179</td>\n",
       "      <td>2019-08-01</td>\n",
       "      <td>2019</td>\n",
       "      <td>10-K</td>\n",
       "      <td>FiniteLivedIntangibleAssetsNet</td>\n",
       "      <td>1</td>\n",
       "      <td>FiniteLivedIntangibleAssetsByMajorClassAxis</td>\n",
       "      <td>TechnologyBasedIntangibleAssetsMember</td>\n",
       "      <td>1920000000</td>\n",
       "      <td>USD</td>\n",
       "      <td>4</td>\n",
       "      <td>http://fasb.org/us-gaap/2018-01-31</td>\n",
       "      <td>http://fasb.org/us-gaap/2018-01-31</td>\n",
       "    </tr>\n",
       "    <tr>\n",
       "      <th>9</th>\n",
       "      <td>0000789019</td>\n",
       "      <td>MICROSOFT CORPORATION</td>\n",
       "      <td>334516</td>\n",
       "      <td>209184767</td>\n",
       "      <td>2019-08-01</td>\n",
       "      <td>2019</td>\n",
       "      <td>10-K</td>\n",
       "      <td>FiniteLivedIntangibleAssetsNet</td>\n",
       "      <td>1</td>\n",
       "      <td>FiniteLivedIntangibleAssetsByMajorClassAxis</td>\n",
       "      <td>MarketingRelatedIntangibleAssetsMember</td>\n",
       "      <td>2838000000</td>\n",
       "      <td>USD</td>\n",
       "      <td>4</td>\n",
       "      <td>http://fasb.org/us-gaap/2018-01-31</td>\n",
       "      <td>http://fasb.org/us-gaap/2018-01-31</td>\n",
       "    </tr>\n",
       "    <tr>\n",
       "      <th>10</th>\n",
       "      <td>0000789019</td>\n",
       "      <td>MICROSOFT CORPORATION</td>\n",
       "      <td>334516</td>\n",
       "      <td>209184628</td>\n",
       "      <td>2019-08-01</td>\n",
       "      <td>2019</td>\n",
       "      <td>10-K</td>\n",
       "      <td>FiniteLivedIntangibleAssetsNet</td>\n",
       "      <td>1</td>\n",
       "      <td>FiniteLivedIntangibleAssetsByMajorClassAxis</td>\n",
       "      <td>ContractualRightsMember</td>\n",
       "      <td>68000000</td>\n",
       "      <td>USD</td>\n",
       "      <td>4</td>\n",
       "      <td>http://fasb.org/us-gaap/2018-01-31</td>\n",
       "      <td>http://fasb.org/us-gaap/2018-01-31</td>\n",
       "    </tr>\n",
       "  </tbody>\n",
       "</table>\n",
       "</div>"
      ],
      "text/plain": [
       "    entity.cik            entity.name  dts.id    fact.id report.filing-date  \\\n",
       "0   0001652044          Alphabet Inc.  362758  221624796         2020-02-04   \n",
       "1   0001652044          Alphabet Inc.  362758  221624695         2020-02-04   \n",
       "2   0001652044          Alphabet Inc.  362758  221625088         2020-02-04   \n",
       "3   0001018724       AMAZON.COM, INC.  362382  221546174         2020-01-31   \n",
       "4   0001018724       AMAZON.COM, INC.  362382  221545329         2020-01-31   \n",
       "5   0001018724       AMAZON.COM, INC.  362382  221545455         2020-01-31   \n",
       "6   0001018724       AMAZON.COM, INC.  362382  221546415         2020-01-31   \n",
       "7   0000789019  MICROSOFT CORPORATION  334516  209185196         2019-08-01   \n",
       "8   0000789019  MICROSOFT CORPORATION  334516  209184179         2019-08-01   \n",
       "9   0000789019  MICROSOFT CORPORATION  334516  209184767         2019-08-01   \n",
       "10  0000789019  MICROSOFT CORPORATION  334516  209184628         2019-08-01   \n",
       "\n",
       "    period.fiscal-year report.type                    concept.local-name  \\\n",
       "0                 2019        10-K  IntangibleAssetsNetExcludingGoodwill   \n",
       "1                 2019        10-K  IntangibleAssetsNetExcludingGoodwill   \n",
       "2                 2019        10-K  IntangibleAssetsNetExcludingGoodwill   \n",
       "3                 2019        10-K  IntangibleAssetsNetExcludingGoodwill   \n",
       "4                 2019        10-K  IntangibleAssetsNetExcludingGoodwill   \n",
       "5                 2019        10-K  IntangibleAssetsNetExcludingGoodwill   \n",
       "6                 2019        10-K  IntangibleAssetsNetExcludingGoodwill   \n",
       "7                 2019        10-K        FiniteLivedIntangibleAssetsNet   \n",
       "8                 2019        10-K        FiniteLivedIntangibleAssetsNet   \n",
       "9                 2019        10-K        FiniteLivedIntangibleAssetsNet   \n",
       "10                2019        10-K        FiniteLivedIntangibleAssetsNet   \n",
       "\n",
       "    dimensions.count                         dimension.local-name  \\\n",
       "0                  1  FiniteLivedIntangibleAssetsByMajorClassAxis   \n",
       "1                  1  FiniteLivedIntangibleAssetsByMajorClassAxis   \n",
       "2                  1  FiniteLivedIntangibleAssetsByMajorClassAxis   \n",
       "3                  1  FiniteLivedIntangibleAssetsByMajorClassAxis   \n",
       "4                  1  FiniteLivedIntangibleAssetsByMajorClassAxis   \n",
       "5                  1  FiniteLivedIntangibleAssetsByMajorClassAxis   \n",
       "6                  1  FiniteLivedIntangibleAssetsByMajorClassAxis   \n",
       "7                  1  FiniteLivedIntangibleAssetsByMajorClassAxis   \n",
       "8                  1  FiniteLivedIntangibleAssetsByMajorClassAxis   \n",
       "9                  1  FiniteLivedIntangibleAssetsByMajorClassAxis   \n",
       "10                 1  FiniteLivedIntangibleAssetsByMajorClassAxis   \n",
       "\n",
       "                         member.local-name  fact.value unit  \\\n",
       "0                 TradenamesAndOtherMember   353000000  USD   \n",
       "1              CustomerRelationshipsMember   224000000  USD   \n",
       "2      PatentsAndDevelopedTechnologyMember  1402000000  USD   \n",
       "3    TechnologyBasedIntangibleAssetsMember   534000000  USD   \n",
       "4   MarketingRelatedIntangibleAssetsMember  1963000000  USD   \n",
       "5    CustomerRelatedIntangibleAssetsMember   152000000  USD   \n",
       "6      ContractBasedIntangibleAssetsMember  1400000000  USD   \n",
       "7              CustomerRelationshipsMember  2924000000  USD   \n",
       "8    TechnologyBasedIntangibleAssetsMember  1920000000  USD   \n",
       "9   MarketingRelatedIntangibleAssetsMember  2838000000  USD   \n",
       "10                 ContractualRightsMember    68000000  USD   \n",
       "\n",
       "    fact.ultimus-index                 dimension.namespace  \\\n",
       "0                    2  http://fasb.org/us-gaap/2019-01-31   \n",
       "1                    2  http://fasb.org/us-gaap/2019-01-31   \n",
       "2                    2  http://fasb.org/us-gaap/2019-01-31   \n",
       "3                    1  http://fasb.org/us-gaap/2019-01-31   \n",
       "4                    1  http://fasb.org/us-gaap/2019-01-31   \n",
       "5                    1  http://fasb.org/us-gaap/2019-01-31   \n",
       "6                    1  http://fasb.org/us-gaap/2019-01-31   \n",
       "7                    4  http://fasb.org/us-gaap/2018-01-31   \n",
       "8                    4  http://fasb.org/us-gaap/2018-01-31   \n",
       "9                    4  http://fasb.org/us-gaap/2018-01-31   \n",
       "10                   4  http://fasb.org/us-gaap/2018-01-31   \n",
       "\n",
       "                      member.namespace  \n",
       "0       http://www.google.com/20191231  \n",
       "1   http://fasb.org/us-gaap/2019-01-31  \n",
       "2       http://www.google.com/20191231  \n",
       "3   http://fasb.org/us-gaap/2019-01-31  \n",
       "4   http://fasb.org/us-gaap/2019-01-31  \n",
       "5   http://fasb.org/us-gaap/2019-01-31  \n",
       "6   http://fasb.org/us-gaap/2019-01-31  \n",
       "7   http://fasb.org/us-gaap/2018-01-31  \n",
       "8   http://fasb.org/us-gaap/2018-01-31  \n",
       "9   http://fasb.org/us-gaap/2018-01-31  \n",
       "10  http://fasb.org/us-gaap/2018-01-31  "
      ]
     },
     "execution_count": 14,
     "metadata": {},
     "output_type": "execute_result"
    }
   ],
   "source": [
    "res_df"
   ]
  }
 ],
 "metadata": {
  "kernelspec": {
   "display_name": "Python 3",
   "language": "python",
   "name": "python3"
  },
  "language_info": {
   "codemirror_mode": {
    "name": "ipython",
    "version": 3
   },
   "file_extension": ".py",
   "mimetype": "text/x-python",
   "name": "python",
   "nbconvert_exporter": "python",
   "pygments_lexer": "ipython3",
   "version": "3.7.4"
  }
 },
 "nbformat": 4,
 "nbformat_minor": 2
}
