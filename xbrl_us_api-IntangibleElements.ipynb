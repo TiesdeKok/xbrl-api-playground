{
 "cells": [
  {
   "cell_type": "markdown",
   "metadata": {},
   "source": [
    "## XBRL US API - Python example  \n",
    "This notebook contains example Python code to use the XBRL US API (https://xbrl.us/home/use/xbrl-api/)    \n",
    "  \n",
    "**Made by:** [Ties de Kok](https://www.tiesdekok.com) and [Beth Blankespoor](https://foster.uw.edu/faculty-research/directory/elizabeth-blankespoor/)"
   ]
  },
  {
   "cell_type": "markdown",
   "metadata": {},
   "source": [
    "## Imports"
   ]
  },
  {
   "cell_type": "code",
   "execution_count": 1,
   "metadata": {},
   "outputs": [],
   "source": [
    "import os, re, sys, json\n",
    "import requests"
   ]
  },
  {
   "cell_type": "code",
   "execution_count": 2,
   "metadata": {},
   "outputs": [],
   "source": [
    "import pandas as pd\n",
    "import numpy as np"
   ]
  },
  {
   "cell_type": "code",
   "execution_count": 3,
   "metadata": {},
   "outputs": [],
   "source": [
    "import getpass"
   ]
  },
  {
   "cell_type": "markdown",
   "metadata": {},
   "source": [
    "## Api documentation"
   ]
  },
  {
   "cell_type": "markdown",
   "metadata": {},
   "source": [
    "https://xbrlus.github.io/xbrl-api/#/Facts/getFactDetails"
   ]
  },
  {
   "cell_type": "markdown",
   "metadata": {},
   "source": [
    "## Generate an access token\n",
    "The access token will expire after 60 minutes."
   ]
  },
  {
   "cell_type": "markdown",
   "metadata": {},
   "source": [
    "**You have two options:**\n",
    "\n",
    "**Option 1:** obtain your own credentials\n",
    "\n",
    "1. Obtain credentials here: https://xbrl.us/home/use/xbrl-api-community/#provisioning\n",
    "2. Update 'login_cred.json' with your `client_id`, `client_secret`, and `username`  \n",
    "3. Set `USE_TEMP_CRED` to `False`\n",
    "4. Input your password when asked\n",
    "\n",
    "**Option 2:** Use my temporary credentials for demo purposes only\n",
    "\n",
    "1. Set `USE_TEMP_CRED` to `True`\n",
    "2. Input your email address when asked\n"
   ]
  },
  {
   "cell_type": "code",
   "execution_count": 4,
   "metadata": {},
   "outputs": [
    {
     "name": "stdout",
     "output_type": "stream",
     "text": [
      "Please type your email address here: your@email.com\n"
     ]
    }
   ],
   "source": [
    "USE_TEMP_CRED = True\n",
    "if USE_TEMP_CRED:\n",
    "    user_email = input(prompt=\"Please type your email address here: \")\n",
    "    access_token = requests.get('https://tdekok-xbrlapi.builtwithdark.com/gettoken?platform=aaa-{}'.format(user_email)).text.replace('\"', \"\")\n",
    "else:\n",
    "    endpoint = 'https://api.xbrl.us'\n",
    "    endpoint_auth = endpoint + '/oauth2/token'\n",
    "\n",
    "    with open('login_cred.json', 'r') as f:\n",
    "        login_cred = json.loads(f.read())\n",
    "    password = getpass.getpass(prompt = 'Password: ')\n",
    "    body_auth = {'grant_type' : 'password', \n",
    "                'client_id' : login_cred['client_id'], \n",
    "                'client_secret' : login_cred['client_secret'], \n",
    "                'username' : login_cred['username'] ,\n",
    "                'password' : password,\n",
    "                'platform' : 'pc'}\n",
    "    res = requests.post(endpoint_auth, data=body_auth)\n",
    "    auth_json = res.json()\n",
    "    access_token = auth_json['access_token']"
   ]
  },
  {
   "cell_type": "markdown",
   "metadata": {},
   "source": [
    "## Make a query"
   ]
  },
  {
   "cell_type": "markdown",
   "metadata": {},
   "source": [
    "### Define the fields you would like returned"
   ]
  },
  {
   "cell_type": "code",
   "execution_count": 5,
   "metadata": {},
   "outputs": [],
   "source": [
    "fields = ['entity.cik',\n",
    "         'entity.name.sort(ASC)',\n",
    "         'dts.id',\n",
    "         'fact.id',\n",
    "         'report.filing-date',\n",
    "         'period.fiscal-year',\n",
    "         'report.type',\n",
    "         'concept.local-name',\n",
    "         'dimensions.count',\n",
    "         'dimension.local-name.sort(ASC)',\n",
    "         'member.local-name',\n",
    "         'fact.value',\n",
    "         'unit',\n",
    "         'fact.decimals',\n",
    "          'fact.ultimus-index',\n",
    "         'dimension.namespace',\n",
    "         'member.namespace',\n",
    "          'fact.has-dimensions'\n",
    "         ]"
   ]
  },
  {
   "cell_type": "markdown",
   "metadata": {},
   "source": [
    "### Define the XBRL elements (tags) you'd like "
   ]
  },
  {
   "cell_type": "code",
   "execution_count": 6,
   "metadata": {},
   "outputs": [],
   "source": [
    "XBRL_Elements = [\n",
    "     'IntangibleAssetsNetExcludingGoodwill',\n",
    "     'FiniteLivedIntangibleAssetsNet',\n",
    "     'IndefiniteLivedIntangibleAssetsExcludingGoodwill'\n",
    "                ]"
   ]
  },
  {
   "cell_type": "markdown",
   "metadata": {},
   "source": [
    "### Define the companies you'd like"
   ]
  },
  {
   "cell_type": "code",
   "execution_count": 7,
   "metadata": {},
   "outputs": [],
   "source": [
    "companies_cik = ['0000789019', ## Microsoft (MSFT)\n",
    "                 '0001018724', ## Amazon (AMZN)\n",
    "                 '0001652044', ## Alphabet (GOOG)\n",
    "                 '0001326801', ## Facebook (FB)\n",
    "                 '0001065280', ## Netflix (NFLX)\n",
    "                 '0001166691', ## Comcast (CMCSA)\n",
    "                 '0001326380', ## GameStop (GME)\n",
    "                 '0000732717', ## AT&T (T)\n",
    "                ]"
   ]
  },
  {
   "cell_type": "markdown",
   "metadata": {},
   "source": [
    "### Define the years you'd like"
   ]
  },
  {
   "cell_type": "code",
   "execution_count": 8,
   "metadata": {},
   "outputs": [],
   "source": [
    "years = ['2019'] ## Use commas between for multiple years, e.g., '2018','2019'\n",
    "#years = [str(2013 + i) for i in range(8)] ## Years 2013 to 2020"
   ]
  },
  {
   "cell_type": "markdown",
   "metadata": {},
   "source": [
    "### Specify if you want dimensions, no dimension, or all values"
   ]
  },
  {
   "cell_type": "code",
   "execution_count": 9,
   "metadata": {},
   "outputs": [],
   "source": [
    "has_dimensions = 'FALSE'  ## TRUE for require dimensions, FALSE for no dimensions, ALL for all values"
   ]
  },
  {
   "cell_type": "markdown",
   "metadata": {},
   "source": [
    "### Specify the report types that you want"
   ]
  },
  {
   "cell_type": "code",
   "execution_count": 10,
   "metadata": {},
   "outputs": [],
   "source": [
    "report_types = ['10-K', '10-K/A']"
   ]
  },
  {
   "cell_type": "markdown",
   "metadata": {},
   "source": [
    "## Execute query"
   ]
  },
  {
   "cell_type": "markdown",
   "metadata": {},
   "source": [
    "Note: as of 2021 it appears that the `report.type` parameter is no longer supported. Updated to filter out the document types after the data has been retrieved."
   ]
  },
  {
   "cell_type": "code",
   "execution_count": 11,
   "metadata": {},
   "outputs": [],
   "source": [
    "search_endpoint = 'https://api.xbrl.us/api/v1/fact/search'"
   ]
  },
  {
   "cell_type": "code",
   "execution_count": 12,
   "metadata": {},
   "outputs": [
    {
     "name": "stdout",
     "output_type": "stream",
     "text": [
      "Getting the data for: \"fact.has-dimensions\" = FALSE\n",
      "Number of records retrieved:  31\n",
      "\n",
      "Number of results that meet the criteria: 13\n"
     ]
    }
   ],
   "source": [
    "params = {'concept.local-name': ','.join(XBRL_Elements),\n",
    "     'period.fiscal-period': 'Y',\n",
    "     'period.fiscal-year': ','.join(years),\n",
    "     'unit': 'USD',\n",
    "     'entity.cik': ','.join(companies_cik),\n",
    "     }  \n",
    "if has_dimensions == 'ALL':\n",
    "    dimension_options = ['TRUE', 'FALSE']\n",
    "else:\n",
    "    dimension_options = [has_dimensions]\n",
    "    \n",
    "all_res_list = []\n",
    "for dimensions_param in dimension_options:\n",
    "    print('Getting the data for: \"fact.has-dimensions\" = {}'.format(dimensions_param))\n",
    "    ### Every request will return a max of 2000 results. So we loop until all results are retrieved. \n",
    "    done_retrieving_all_results = False\n",
    "    offset = 0\n",
    "    while not done_retrieving_all_results:\n",
    "        params['fact.has-dimensions'] = dimensions_param\n",
    "        params['fields'] = ','.join(fields) + ',fact.offset({})'.format(offset) \n",
    "        res = requests.get(search_endpoint, params=params, headers={'Authorization' : 'Bearer {}'.format(access_token)})\n",
    "        \n",
    "        ## Interpret as JSON\n",
    "        res_json = res.json()\n",
    "            \n",
    "        ## Get the results\n",
    "        ### Retrieve the data list\n",
    "        res_list = res_json['data']\n",
    "        \n",
    "        ### Keep only the request document types\n",
    "        res_list = [result for result in res_list if result['report.type'] in report_types]\n",
    "        \n",
    "        ### Add to the results\n",
    "        all_res_list += res_list\n",
    "        \n",
    "        ## Pagination check\n",
    "        paging_dict = res_json['paging']\n",
    "        print('Number of records retrieved: ', paging_dict['count'])\n",
    "        if paging_dict['count'] >= 2000:\n",
    "            offset += paging_dict['count']\n",
    "        else:\n",
    "            done_retrieving_all_results = True\n",
    "    \n",
    "## Convert to a DataFrame\n",
    "res_df = pd.DataFrame(all_res_list)\n",
    "print('\\nNumber of results that meet the criteria: {}'.format(len(res_df)))"
   ]
  },
  {
   "cell_type": "markdown",
   "metadata": {},
   "source": [
    "## Show results"
   ]
  },
  {
   "cell_type": "code",
   "execution_count": 14,
   "metadata": {
    "scrolled": false
   },
   "outputs": [
    {
     "data": {
      "text/html": [
       "<div>\n",
       "<style scoped>\n",
       "    .dataframe tbody tr th:only-of-type {\n",
       "        vertical-align: middle;\n",
       "    }\n",
       "\n",
       "    .dataframe tbody tr th {\n",
       "        vertical-align: top;\n",
       "    }\n",
       "\n",
       "    .dataframe thead th {\n",
       "        text-align: right;\n",
       "    }\n",
       "</style>\n",
       "<table border=\"1\" class=\"dataframe\">\n",
       "  <thead>\n",
       "    <tr style=\"text-align: right;\">\n",
       "      <th></th>\n",
       "      <th>entity.name</th>\n",
       "      <th>dts.id</th>\n",
       "      <th>period.fiscal-year</th>\n",
       "      <th>report.type</th>\n",
       "      <th>concept.local-name</th>\n",
       "      <th>dimensions.count</th>\n",
       "      <th>dimension.local-name</th>\n",
       "      <th>member.local-name</th>\n",
       "      <th>fact.value</th>\n",
       "      <th>unit</th>\n",
       "      <th>fact.ultimus-index</th>\n",
       "      <th>fact.has-dimensions</th>\n",
       "    </tr>\n",
       "  </thead>\n",
       "  <tbody>\n",
       "    <tr>\n",
       "      <th>3</th>\n",
       "      <td>AMAZON.COM, INC.</td>\n",
       "      <td>362382</td>\n",
       "      <td>2019</td>\n",
       "      <td>10-K</td>\n",
       "      <td>FiniteLivedIntangibleAssetsNet</td>\n",
       "      <td>0</td>\n",
       "      <td></td>\n",
       "      <td></td>\n",
       "      <td>4021000000</td>\n",
       "      <td>USD</td>\n",
       "      <td>1</td>\n",
       "      <td>False</td>\n",
       "    </tr>\n",
       "    <tr>\n",
       "      <th>4</th>\n",
       "      <td>AMAZON.COM, INC.</td>\n",
       "      <td>362382</td>\n",
       "      <td>2019</td>\n",
       "      <td>10-K</td>\n",
       "      <td>IntangibleAssetsNetExcludingGoodwill</td>\n",
       "      <td>0</td>\n",
       "      <td></td>\n",
       "      <td></td>\n",
       "      <td>4049000000</td>\n",
       "      <td>USD</td>\n",
       "      <td>1</td>\n",
       "      <td>False</td>\n",
       "    </tr>\n",
       "    <tr>\n",
       "      <th>5</th>\n",
       "      <td>AT&amp;T INC.</td>\n",
       "      <td>365998</td>\n",
       "      <td>2019</td>\n",
       "      <td>10-K</td>\n",
       "      <td>IndefiniteLivedIntangibleAssetsExcludingGoodwill</td>\n",
       "      <td>0</td>\n",
       "      <td></td>\n",
       "      <td></td>\n",
       "      <td>101392000000</td>\n",
       "      <td>USD</td>\n",
       "      <td>1</td>\n",
       "      <td>False</td>\n",
       "    </tr>\n",
       "    <tr>\n",
       "      <th>0</th>\n",
       "      <td>Alphabet Inc.</td>\n",
       "      <td>362758</td>\n",
       "      <td>2019</td>\n",
       "      <td>10-K</td>\n",
       "      <td>FiniteLivedIntangibleAssetsNet</td>\n",
       "      <td>0</td>\n",
       "      <td></td>\n",
       "      <td></td>\n",
       "      <td>1979000000</td>\n",
       "      <td>USD</td>\n",
       "      <td>1</td>\n",
       "      <td>False</td>\n",
       "    </tr>\n",
       "    <tr>\n",
       "      <th>2</th>\n",
       "      <td>Alphabet Inc.</td>\n",
       "      <td>362758</td>\n",
       "      <td>2019</td>\n",
       "      <td>10-K</td>\n",
       "      <td>IntangibleAssetsNetExcludingGoodwill</td>\n",
       "      <td>0</td>\n",
       "      <td></td>\n",
       "      <td></td>\n",
       "      <td>1979000000</td>\n",
       "      <td>USD</td>\n",
       "      <td>7</td>\n",
       "      <td>False</td>\n",
       "    </tr>\n",
       "    <tr>\n",
       "      <th>1</th>\n",
       "      <td>Alphabet Inc.</td>\n",
       "      <td>362758</td>\n",
       "      <td>2019</td>\n",
       "      <td>10-K</td>\n",
       "      <td>IntangibleAssetsNetExcludingGoodwill</td>\n",
       "      <td>0</td>\n",
       "      <td></td>\n",
       "      <td></td>\n",
       "      <td>1979000000</td>\n",
       "      <td>USD</td>\n",
       "      <td>8</td>\n",
       "      <td>False</td>\n",
       "    </tr>\n",
       "    <tr>\n",
       "      <th>8</th>\n",
       "      <td>Facebook, Inc.</td>\n",
       "      <td>362131</td>\n",
       "      <td>2019</td>\n",
       "      <td>10-K</td>\n",
       "      <td>FiniteLivedIntangibleAssetsNet</td>\n",
       "      <td>0</td>\n",
       "      <td></td>\n",
       "      <td></td>\n",
       "      <td>894000000</td>\n",
       "      <td>USD</td>\n",
       "      <td>4</td>\n",
       "      <td>False</td>\n",
       "    </tr>\n",
       "    <tr>\n",
       "      <th>7</th>\n",
       "      <td>Facebook, Inc.</td>\n",
       "      <td>362131</td>\n",
       "      <td>2019</td>\n",
       "      <td>10-K</td>\n",
       "      <td>FiniteLivedIntangibleAssetsNet</td>\n",
       "      <td>0</td>\n",
       "      <td></td>\n",
       "      <td></td>\n",
       "      <td>894000000</td>\n",
       "      <td>USD</td>\n",
       "      <td>5</td>\n",
       "      <td>False</td>\n",
       "    </tr>\n",
       "    <tr>\n",
       "      <th>6</th>\n",
       "      <td>Facebook, Inc.</td>\n",
       "      <td>362131</td>\n",
       "      <td>2019</td>\n",
       "      <td>10-K</td>\n",
       "      <td>IntangibleAssetsNetExcludingGoodwill</td>\n",
       "      <td>0</td>\n",
       "      <td></td>\n",
       "      <td></td>\n",
       "      <td>894000000</td>\n",
       "      <td>USD</td>\n",
       "      <td>4</td>\n",
       "      <td>False</td>\n",
       "    </tr>\n",
       "    <tr>\n",
       "      <th>9</th>\n",
       "      <td>GameStop Corp.</td>\n",
       "      <td>322837</td>\n",
       "      <td>2019</td>\n",
       "      <td>10-K</td>\n",
       "      <td>IntangibleAssetsNetExcludingGoodwill</td>\n",
       "      <td>0</td>\n",
       "      <td></td>\n",
       "      <td></td>\n",
       "      <td>33500000</td>\n",
       "      <td>USD</td>\n",
       "      <td>1</td>\n",
       "      <td>False</td>\n",
       "    </tr>\n",
       "    <tr>\n",
       "      <th>10</th>\n",
       "      <td>MICROSOFT CORPORATION</td>\n",
       "      <td>334516</td>\n",
       "      <td>2019</td>\n",
       "      <td>10-K</td>\n",
       "      <td>FiniteLivedIntangibleAssetsNet</td>\n",
       "      <td>0</td>\n",
       "      <td></td>\n",
       "      <td></td>\n",
       "      <td>7750000000</td>\n",
       "      <td>USD</td>\n",
       "      <td>9</td>\n",
       "      <td>False</td>\n",
       "    </tr>\n",
       "    <tr>\n",
       "      <th>11</th>\n",
       "      <td>MICROSOFT CORPORATION</td>\n",
       "      <td>400915</td>\n",
       "      <td>2019</td>\n",
       "      <td>10-K</td>\n",
       "      <td>FiniteLivedIntangibleAssetsNet</td>\n",
       "      <td>0</td>\n",
       "      <td></td>\n",
       "      <td></td>\n",
       "      <td>7750000000</td>\n",
       "      <td>USD</td>\n",
       "      <td>1</td>\n",
       "      <td>False</td>\n",
       "    </tr>\n",
       "    <tr>\n",
       "      <th>12</th>\n",
       "      <td>MICROSOFT CORPORATION</td>\n",
       "      <td>400915</td>\n",
       "      <td>2019</td>\n",
       "      <td>10-K</td>\n",
       "      <td>FiniteLivedIntangibleAssetsNet</td>\n",
       "      <td>0</td>\n",
       "      <td></td>\n",
       "      <td></td>\n",
       "      <td>7750000000</td>\n",
       "      <td>USD</td>\n",
       "      <td>2</td>\n",
       "      <td>False</td>\n",
       "    </tr>\n",
       "  </tbody>\n",
       "</table>\n",
       "</div>"
      ],
      "text/plain": [
       "              entity.name  dts.id  period.fiscal-year report.type  \\\n",
       "3        AMAZON.COM, INC.  362382                2019        10-K   \n",
       "4        AMAZON.COM, INC.  362382                2019        10-K   \n",
       "5               AT&T INC.  365998                2019        10-K   \n",
       "0           Alphabet Inc.  362758                2019        10-K   \n",
       "2           Alphabet Inc.  362758                2019        10-K   \n",
       "1           Alphabet Inc.  362758                2019        10-K   \n",
       "8          Facebook, Inc.  362131                2019        10-K   \n",
       "7          Facebook, Inc.  362131                2019        10-K   \n",
       "6          Facebook, Inc.  362131                2019        10-K   \n",
       "9          GameStop Corp.  322837                2019        10-K   \n",
       "10  MICROSOFT CORPORATION  334516                2019        10-K   \n",
       "11  MICROSOFT CORPORATION  400915                2019        10-K   \n",
       "12  MICROSOFT CORPORATION  400915                2019        10-K   \n",
       "\n",
       "                                  concept.local-name  dimensions.count  \\\n",
       "3                     FiniteLivedIntangibleAssetsNet                 0   \n",
       "4               IntangibleAssetsNetExcludingGoodwill                 0   \n",
       "5   IndefiniteLivedIntangibleAssetsExcludingGoodwill                 0   \n",
       "0                     FiniteLivedIntangibleAssetsNet                 0   \n",
       "2               IntangibleAssetsNetExcludingGoodwill                 0   \n",
       "1               IntangibleAssetsNetExcludingGoodwill                 0   \n",
       "8                     FiniteLivedIntangibleAssetsNet                 0   \n",
       "7                     FiniteLivedIntangibleAssetsNet                 0   \n",
       "6               IntangibleAssetsNetExcludingGoodwill                 0   \n",
       "9               IntangibleAssetsNetExcludingGoodwill                 0   \n",
       "10                    FiniteLivedIntangibleAssetsNet                 0   \n",
       "11                    FiniteLivedIntangibleAssetsNet                 0   \n",
       "12                    FiniteLivedIntangibleAssetsNet                 0   \n",
       "\n",
       "   dimension.local-name member.local-name    fact.value unit  \\\n",
       "3                                            4021000000  USD   \n",
       "4                                            4049000000  USD   \n",
       "5                                          101392000000  USD   \n",
       "0                                            1979000000  USD   \n",
       "2                                            1979000000  USD   \n",
       "1                                            1979000000  USD   \n",
       "8                                             894000000  USD   \n",
       "7                                             894000000  USD   \n",
       "6                                             894000000  USD   \n",
       "9                                              33500000  USD   \n",
       "10                                           7750000000  USD   \n",
       "11                                           7750000000  USD   \n",
       "12                                           7750000000  USD   \n",
       "\n",
       "    fact.ultimus-index  fact.has-dimensions  \n",
       "3                    1                False  \n",
       "4                    1                False  \n",
       "5                    1                False  \n",
       "0                    1                False  \n",
       "2                    7                False  \n",
       "1                    8                False  \n",
       "8                    4                False  \n",
       "7                    5                False  \n",
       "6                    4                False  \n",
       "9                    1                False  \n",
       "10                   9                False  \n",
       "11                   1                False  \n",
       "12                   2                False  "
      ]
     },
     "execution_count": 14,
     "metadata": {},
     "output_type": "execute_result"
    }
   ],
   "source": [
    "columns_to_hide = ['entity.cik', 'fact.id', 'report.filing-date', 'fact.decimals', 'dimension.namespace', 'member.namespace']\n",
    "columns_to_show = [column for column in res_df.columns if column not in columns_to_hide]\n",
    "\n",
    "res_df.sort_values(by=['entity.name','dts.id','concept.local-name','fact.ultimus-index','dimension.local-name'], inplace=True)\n",
    "res_df[columns_to_show].head(50)"
   ]
  },
  {
   "cell_type": "markdown",
   "metadata": {},
   "source": [
    "## Show dimensions example (if exists)"
   ]
  },
  {
   "cell_type": "code",
   "execution_count": 15,
   "metadata": {},
   "outputs": [
    {
     "data": {
      "text/html": [
       "<div>\n",
       "<style scoped>\n",
       "    .dataframe tbody tr th:only-of-type {\n",
       "        vertical-align: middle;\n",
       "    }\n",
       "\n",
       "    .dataframe tbody tr th {\n",
       "        vertical-align: top;\n",
       "    }\n",
       "\n",
       "    .dataframe thead th {\n",
       "        text-align: right;\n",
       "    }\n",
       "</style>\n",
       "<table border=\"1\" class=\"dataframe\">\n",
       "  <thead>\n",
       "    <tr style=\"text-align: right;\">\n",
       "      <th></th>\n",
       "      <th>entity.name</th>\n",
       "      <th>dts.id</th>\n",
       "      <th>period.fiscal-year</th>\n",
       "      <th>report.type</th>\n",
       "      <th>concept.local-name</th>\n",
       "      <th>dimensions.count</th>\n",
       "      <th>dimension.local-name</th>\n",
       "      <th>member.local-name</th>\n",
       "      <th>fact.value</th>\n",
       "      <th>unit</th>\n",
       "      <th>fact.ultimus-index</th>\n",
       "      <th>fact.has-dimensions</th>\n",
       "    </tr>\n",
       "  </thead>\n",
       "  <tbody>\n",
       "  </tbody>\n",
       "</table>\n",
       "</div>"
      ],
      "text/plain": [
       "Empty DataFrame\n",
       "Columns: [entity.name, dts.id, period.fiscal-year, report.type, concept.local-name, dimensions.count, dimension.local-name, member.local-name, fact.value, unit, fact.ultimus-index, fact.has-dimensions]\n",
       "Index: []"
      ]
     },
     "execution_count": 15,
     "metadata": {},
     "output_type": "execute_result"
    }
   ],
   "source": [
    "res_df[res_df['dimensions.count'] > 1].sort_values(by=['entity.name','dts.id','concept.local-name','fact.ultimus-index',\n",
    "                'dimension.local-name'])[columns_to_show].head(50)"
   ]
  }
 ],
 "metadata": {
  "kernelspec": {
   "display_name": "Python 3",
   "language": "python",
   "name": "python3"
  },
  "language_info": {
   "codemirror_mode": {
    "name": "ipython",
    "version": 3
   },
   "file_extension": ".py",
   "mimetype": "text/x-python",
   "name": "python",
   "nbconvert_exporter": "python",
   "pygments_lexer": "ipython3",
   "version": "3.7.4"
  }
 },
 "nbformat": 4,
 "nbformat_minor": 2
}
